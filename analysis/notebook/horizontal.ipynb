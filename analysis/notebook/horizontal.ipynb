{
  "cells": [
    {
      "cell_type": "code",
      "execution_count": null,
      "metadata": {
        "colab": {
          "base_uri": "https://localhost:8080/"
        },
        "id": "kkYrtAwdv3mj",
        "outputId": "394a4cbf-5bbd-4c04-806c-e3b34cdfc8af"
      },
      "outputs": [],
      "source": [
        "#importing libraries\n",
        "import numpy as np\n",
        "import pandas as pd\n",
        "import seaborn as sns\n",
        "import matplotlib.pyplot as plt\n",
        "from matplotlib.backends.backend_pdf import PdfPages\n",
        "#from google.colab import drive\n",
        "#drive.mount('/content/drive')"
      ]
    },
    {
      "cell_type": "code",
      "execution_count": null,
      "metadata": {
        "colab": {
          "base_uri": "https://localhost:8080/"
        },
        "id": "J5N05ot8waCW",
        "outputId": "d10e280f-30d0-47ff-ec23-2fbf34377dd0"
      },
      "outputs": [],
      "source": [
        "#load the file and check details related to it\n",
        "df = pd.read_csv(\"data.csv\")\n",
        "\n",
        "df.drop(df.columns[[0,1,4,6, 11, 14, 16, 18]], axis=1,inplace=True)\n",
        "df['year'] = df['year'].map(str)\n",
        "#df.head()\n",
        "\n",
        "print(\"Column names in the table: \\n\",df.columns)\n",
        "print(\"\\nthe shape of df:\",df.shape)"
      ]
    },
    {
      "cell_type": "code",
      "execution_count": null,
      "metadata": {
        "id": "qk1aQ1lGwZ4W"
      },
      "outputs": [],
      "source": [
        "c1= df['Technique used']\n",
        "c2= df['Input']"
      ]
    },
    {
      "cell_type": "code",
      "execution_count": null,
      "metadata": {
        "colab": {
          "base_uri": "https://localhost:8080/",
          "height": 1000
        },
        "id": "9MdIJ9iLzoQ0",
        "outputId": "eccd2876-a50c-4b42-b7df-8aa4f965df42"
      },
      "outputs": [],
      "source": [
        "pdf = PdfPages('new_horizontal.pdf')\n",
        "for name1 in df.columns:\n",
        "  for name2 in df.columns:\n",
        "    if name1 != name2:\n",
        "\n",
        "      print(name1,name2)\n",
        "\n",
        "      c1 = df[name1]\n",
        "      values_c1 = [x.split(\",\") for x in c1.unique()]\n",
        "      values_c1 = [item for sublist in values_c1 for item in sublist]\n",
        "      values_c1 = list(set(values_c1))\n",
        "\n",
        "      c2 = df[name2]\n",
        "      values_c2 = [x.split(\",\") for x in c2.unique()]\n",
        "      values_c2 = [item for sublist in values_c2 for item in sublist]\n",
        "      values_c2 = list(set(values_c2))\n",
        "\n",
        "      counts= np.zeros((len(values_c1), len(values_c2)), dtype=int)\n",
        "\n",
        "      for v1 in values_c1:\n",
        "        for v2 in values_c2:\n",
        "          filtered = df[c1.str.contains(v1)]\n",
        "          filtered = filtered[c2.str.contains(v2)]\n",
        "          count = len(filtered)\n",
        "          counts[values_c1.index(v1)][values_c2.index(v2)] = count\n",
        "\n",
        "      print(counts)\n",
        "\n",
        "\n",
        "      plt.figure(figsize=(18,14))\n",
        "      s= sns.heatmap(counts, cmap='rocket_r', annot = True, square=True, yticklabels = values_c1, xticklabels = values_c2)\n",
        "\n",
        "      pdf.savefig()\n",
        "\n",
        "pdf.close()\n"
      ]
    }
  ],
  "metadata": {
    "colab": {
      "provenance": []
    },
    "kernelspec": {
      "display_name": "Python 3",
      "name": "python3"
    },
    "language_info": {
      "codemirror_mode": {
        "name": "ipython",
        "version": 3
      },
      "file_extension": ".py",
      "mimetype": "text/x-python",
      "name": "python",
      "nbconvert_exporter": "python",
      "pygments_lexer": "ipython3",
      "version": "3.9.12"
    }
  },
  "nbformat": 4,
  "nbformat_minor": 0
}
